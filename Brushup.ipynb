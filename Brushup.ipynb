{
  "nbformat": 4,
  "nbformat_minor": 0,
  "metadata": {
    "colab": {
      "provenance": []
    },
    "kernelspec": {
      "name": "python3",
      "display_name": "Python 3"
    },
    "language_info": {
      "name": "python"
    }
  },
  "cells": [
    {
      "cell_type": "markdown",
      "source": [
        "必要なライブラリのインポート\n",
        "\n",
        "データセットの読み込み、データの基本的な確認"
      ],
      "metadata": {
        "id": "IZ-YXpN25Dhv"
      }
    },
    {
      "cell_type": "code",
      "source": [
        "# 必要なライブラリをインポート\n",
        "import numpy as np\n",
        "import pandas as pd\n",
        "import matplotlib.pyplot as plt\n",
        "import seaborn as sns\n",
        "from sklearn.model_selection import train_test_split\n",
        "from sklearn.preprocessing import StandardScaler\n",
        "from sklearn.ensemble import RandomForestClassifier\n",
        "from sklearn.metrics import classification_report\n",
        "\n",
        "# データセットを読み込む\n",
        "df = pd.read_csv('/content/train.csv', header=0, index_col=0)\n",
        "\n",
        "# データの確認\n",
        "print(df.head())\n",
        "print(df.info())\n",
        "print(df.describe())\n"
      ],
      "metadata": {
        "colab": {
          "base_uri": "https://localhost:8080/"
        },
        "id": "TfZqN0xd4u5K",
        "outputId": "38d009f6-d44c-4bd3-8efc-1c947d8275e9"
      },
      "execution_count": 6,
      "outputs": [
        {
          "output_type": "stream",
          "name": "stdout",
          "text": [
            "    index  elevation  aspect  slope  distance_water  distance_town  \\\n",
            "0  215988     2767.0    66.0   17.0           210.0         1190.0   \n",
            "1  424155     2724.0   160.0   19.0            60.0         1350.0   \n",
            "2  274437     2360.0    65.0    7.0           127.0         1377.0   \n",
            "3   65944     2995.0    45.0    4.0           285.0         5125.0   \n",
            "4   11015     2400.0   106.0   27.0           150.0          342.0   \n",
            "\n",
            "   distance_fire        hillshade_index area_type soil_type     Target  \n",
            "0         2251.0   0.0:234.0:204.0:96.0         B    type30  ツイステッドパイン  \n",
            "1         2514.0  0.0:236.0:240.0:127.0         B    type16  ツイステッドパイン  \n",
            "2          339.0  0.0:227.0:226.0:134.0         C     type5   ポンデローザマツ  \n",
            "3         5706.0  0.0:221.0:231.0:146.0         A    type11  ツイステッドパイン  \n",
            "4          811.0   0.0:253.0:196.0:51.0         B     type3   ポンデローザマツ  \n",
            "<class 'pandas.core.frame.DataFrame'>\n",
            "Index: 500000 entries, 0 to 499999\n",
            "Data columns (total 11 columns):\n",
            " #   Column           Non-Null Count   Dtype  \n",
            "---  ------           --------------   -----  \n",
            " 0   index            500000 non-null  int64  \n",
            " 1   elevation        500000 non-null  float64\n",
            " 2   aspect           500000 non-null  float64\n",
            " 3   slope            500000 non-null  float64\n",
            " 4   distance_water   500000 non-null  float64\n",
            " 5   distance_town    500000 non-null  float64\n",
            " 6   distance_fire    500000 non-null  float64\n",
            " 7   hillshade_index  500000 non-null  object \n",
            " 8   area_type        500000 non-null  object \n",
            " 9   soil_type        500000 non-null  object \n",
            " 10  Target           500000 non-null  object \n",
            "dtypes: float64(6), int64(1), object(4)\n",
            "memory usage: 45.8+ MB\n",
            "None\n",
            "               index      elevation         aspect          slope  \\\n",
            "count  500000.000000  500000.000000  500000.000000  500000.000000   \n",
            "mean   290442.795002    2959.284478     155.713382      14.098840   \n",
            "std    167763.415777     279.816655     111.957928       7.483806   \n",
            "min         0.000000    1859.000000       0.000000       0.000000   \n",
            "25%    145053.750000    2809.000000      58.000000       9.000000   \n",
            "50%    290478.500000    2995.000000     127.000000      13.000000   \n",
            "75%    435766.250000    3163.000000     261.000000      18.000000   \n",
            "max    581011.000000    3858.000000     360.000000      66.000000   \n",
            "\n",
            "       distance_water  distance_town  distance_fire  \n",
            "count   500000.000000  500000.000000  500000.000000  \n",
            "mean       269.352432    2349.384210    1980.994868  \n",
            "std        212.424963    1558.875852    1324.001836  \n",
            "min          0.000000       0.000000       0.000000  \n",
            "25%        108.000000    1106.000000    1024.000000  \n",
            "50%        218.000000    1997.000000    1710.000000  \n",
            "75%        384.000000    3326.000000    2550.000000  \n",
            "max       1397.000000    7117.000000    7173.000000  \n"
          ]
        }
      ]
    },
    {
      "cell_type": "markdown",
      "source": [
        "##データセットの読み込み"
      ],
      "metadata": {
        "id": "dr8eLUA05VL9"
      }
    },
    {
      "cell_type": "code",
      "source": [
        "# データの確認\n",
        "print(df.head())  # データの先頭を表示\n",
        "print(df.info())  # データの情報を表示\n",
        "print(df.describe())  # データの統計量を表示\n",
        "print(df.isnull().sum())  # 欠損値の確認\n"
      ],
      "metadata": {
        "colab": {
          "base_uri": "https://localhost:8080/"
        },
        "id": "4dAGIL4W4-HA",
        "outputId": "c20517c1-887e-4031-b559-93c728d9a4ce"
      },
      "execution_count": 3,
      "outputs": [
        {
          "output_type": "stream",
          "name": "stdout",
          "text": [
            "    index  elevation  aspect  slope  distance_water  distance_town  \\\n",
            "0  215988     2767.0    66.0   17.0           210.0         1190.0   \n",
            "1  424155     2724.0   160.0   19.0            60.0         1350.0   \n",
            "2  274437     2360.0    65.0    7.0           127.0         1377.0   \n",
            "3   65944     2995.0    45.0    4.0           285.0         5125.0   \n",
            "4   11015     2400.0   106.0   27.0           150.0          342.0   \n",
            "\n",
            "   distance_fire        hillshade_index area_type soil_type     Target  \n",
            "0         2251.0   0.0:234.0:204.0:96.0         B    type30  ツイステッドパイン  \n",
            "1         2514.0  0.0:236.0:240.0:127.0         B    type16  ツイステッドパイン  \n",
            "2          339.0  0.0:227.0:226.0:134.0         C     type5   ポンデローザマツ  \n",
            "3         5706.0  0.0:221.0:231.0:146.0         A    type11  ツイステッドパイン  \n",
            "4          811.0   0.0:253.0:196.0:51.0         B     type3   ポンデローザマツ  \n",
            "<class 'pandas.core.frame.DataFrame'>\n",
            "Index: 500000 entries, 0 to 499999\n",
            "Data columns (total 11 columns):\n",
            " #   Column           Non-Null Count   Dtype  \n",
            "---  ------           --------------   -----  \n",
            " 0   index            500000 non-null  int64  \n",
            " 1   elevation        500000 non-null  float64\n",
            " 2   aspect           500000 non-null  float64\n",
            " 3   slope            500000 non-null  float64\n",
            " 4   distance_water   500000 non-null  float64\n",
            " 5   distance_town    500000 non-null  float64\n",
            " 6   distance_fire    500000 non-null  float64\n",
            " 7   hillshade_index  500000 non-null  object \n",
            " 8   area_type        500000 non-null  object \n",
            " 9   soil_type        500000 non-null  object \n",
            " 10  Target           500000 non-null  object \n",
            "dtypes: float64(6), int64(1), object(4)\n",
            "memory usage: 45.8+ MB\n",
            "None\n",
            "               index      elevation         aspect          slope  \\\n",
            "count  500000.000000  500000.000000  500000.000000  500000.000000   \n",
            "mean   290442.795002    2959.284478     155.713382      14.098840   \n",
            "std    167763.415777     279.816655     111.957928       7.483806   \n",
            "min         0.000000    1859.000000       0.000000       0.000000   \n",
            "25%    145053.750000    2809.000000      58.000000       9.000000   \n",
            "50%    290478.500000    2995.000000     127.000000      13.000000   \n",
            "75%    435766.250000    3163.000000     261.000000      18.000000   \n",
            "max    581011.000000    3858.000000     360.000000      66.000000   \n",
            "\n",
            "       distance_water  distance_town  distance_fire  \n",
            "count   500000.000000  500000.000000  500000.000000  \n",
            "mean       269.352432    2349.384210    1980.994868  \n",
            "std        212.424963    1558.875852    1324.001836  \n",
            "min          0.000000       0.000000       0.000000  \n",
            "25%        108.000000    1106.000000    1024.000000  \n",
            "50%        218.000000    1997.000000    1710.000000  \n",
            "75%        384.000000    3326.000000    2550.000000  \n",
            "max       1397.000000    7117.000000    7173.000000  \n",
            "index              0\n",
            "elevation          0\n",
            "aspect             0\n",
            "slope              0\n",
            "distance_water     0\n",
            "distance_town      0\n",
            "distance_fire      0\n",
            "hillshade_index    0\n",
            "area_type          0\n",
            "soil_type          0\n",
            "Target             0\n",
            "dtype: int64\n"
          ]
        }
      ]
    },
    {
      "cell_type": "markdown",
      "source": [
        "##データを調べる"
      ],
      "metadata": {
        "id": "KkJP1g9V5fn-"
      }
    },
    {
      "cell_type": "code",
      "source": [
        "# カラムの確認\n",
        "print(df.columns)\n",
        "\n",
        "# データ型の確認\n",
        "print(df.dtypes)\n",
        "\n",
        "# ターゲット変数の分布確認\n",
        "sns.countplot(x='Target', data=df)\n",
        "plt.show()\n"
      ],
      "metadata": {
        "colab": {
          "base_uri": "https://localhost:8080/",
          "height": 1000
        },
        "id": "SeVxHXgc5khn",
        "outputId": "0ad69ff1-dfb1-4cf4-940a-4e503a774d31"
      },
      "execution_count": 4,
      "outputs": [
        {
          "output_type": "stream",
          "name": "stdout",
          "text": [
            "Index(['index', 'elevation', 'aspect', 'slope', 'distance_water',\n",
            "       'distance_town', 'distance_fire', 'hillshade_index', 'area_type',\n",
            "       'soil_type', 'Target'],\n",
            "      dtype='object')\n",
            "index                int64\n",
            "elevation          float64\n",
            "aspect             float64\n",
            "slope              float64\n",
            "distance_water     float64\n",
            "distance_town      float64\n",
            "distance_fire      float64\n",
            "hillshade_index     object\n",
            "area_type           object\n",
            "soil_type           object\n",
            "Target              object\n",
            "dtype: object\n"
          ]
        },
        {
          "output_type": "stream",
          "name": "stderr",
          "text": [
            "/usr/local/lib/python3.10/dist-packages/IPython/core/pylabtools.py:151: UserWarning: Glyph 12484 (\\N{KATAKANA LETTER TU}) missing from current font.\n",
            "  fig.canvas.print_figure(bytes_io, **kw)\n",
            "/usr/local/lib/python3.10/dist-packages/IPython/core/pylabtools.py:151: UserWarning: Glyph 12452 (\\N{KATAKANA LETTER I}) missing from current font.\n",
            "  fig.canvas.print_figure(bytes_io, **kw)\n",
            "/usr/local/lib/python3.10/dist-packages/IPython/core/pylabtools.py:151: UserWarning: Glyph 12473 (\\N{KATAKANA LETTER SU}) missing from current font.\n",
            "  fig.canvas.print_figure(bytes_io, **kw)\n",
            "/usr/local/lib/python3.10/dist-packages/IPython/core/pylabtools.py:151: UserWarning: Glyph 12486 (\\N{KATAKANA LETTER TE}) missing from current font.\n",
            "  fig.canvas.print_figure(bytes_io, **kw)\n",
            "/usr/local/lib/python3.10/dist-packages/IPython/core/pylabtools.py:151: UserWarning: Glyph 12483 (\\N{KATAKANA LETTER SMALL TU}) missing from current font.\n",
            "  fig.canvas.print_figure(bytes_io, **kw)\n",
            "/usr/local/lib/python3.10/dist-packages/IPython/core/pylabtools.py:151: UserWarning: Glyph 12489 (\\N{KATAKANA LETTER DO}) missing from current font.\n",
            "  fig.canvas.print_figure(bytes_io, **kw)\n",
            "/usr/local/lib/python3.10/dist-packages/IPython/core/pylabtools.py:151: UserWarning: Glyph 12497 (\\N{KATAKANA LETTER PA}) missing from current font.\n",
            "  fig.canvas.print_figure(bytes_io, **kw)\n",
            "/usr/local/lib/python3.10/dist-packages/IPython/core/pylabtools.py:151: UserWarning: Glyph 12531 (\\N{KATAKANA LETTER N}) missing from current font.\n",
            "  fig.canvas.print_figure(bytes_io, **kw)\n",
            "/usr/local/lib/python3.10/dist-packages/IPython/core/pylabtools.py:151: UserWarning: Glyph 12509 (\\N{KATAKANA LETTER PO}) missing from current font.\n",
            "  fig.canvas.print_figure(bytes_io, **kw)\n",
            "/usr/local/lib/python3.10/dist-packages/IPython/core/pylabtools.py:151: UserWarning: Glyph 12487 (\\N{KATAKANA LETTER DE}) missing from current font.\n",
            "  fig.canvas.print_figure(bytes_io, **kw)\n",
            "/usr/local/lib/python3.10/dist-packages/IPython/core/pylabtools.py:151: UserWarning: Glyph 12525 (\\N{KATAKANA LETTER RO}) missing from current font.\n",
            "  fig.canvas.print_figure(bytes_io, **kw)\n",
            "/usr/local/lib/python3.10/dist-packages/IPython/core/pylabtools.py:151: UserWarning: Glyph 12540 (\\N{KATAKANA-HIRAGANA PROLONGED SOUND MARK}) missing from current font.\n",
            "  fig.canvas.print_figure(bytes_io, **kw)\n",
            "/usr/local/lib/python3.10/dist-packages/IPython/core/pylabtools.py:151: UserWarning: Glyph 12470 (\\N{KATAKANA LETTER ZA}) missing from current font.\n",
            "  fig.canvas.print_figure(bytes_io, **kw)\n",
            "/usr/local/lib/python3.10/dist-packages/IPython/core/pylabtools.py:151: UserWarning: Glyph 12510 (\\N{KATAKANA LETTER MA}) missing from current font.\n",
            "  fig.canvas.print_figure(bytes_io, **kw)\n",
            "/usr/local/lib/python3.10/dist-packages/IPython/core/pylabtools.py:151: UserWarning: Glyph 12456 (\\N{KATAKANA LETTER E}) missing from current font.\n",
            "  fig.canvas.print_figure(bytes_io, **kw)\n",
            "/usr/local/lib/python3.10/dist-packages/IPython/core/pylabtools.py:151: UserWarning: Glyph 12478 (\\N{KATAKANA LETTER ZO}) missing from current font.\n",
            "  fig.canvas.print_figure(bytes_io, **kw)\n",
            "/usr/local/lib/python3.10/dist-packages/IPython/core/pylabtools.py:151: UserWarning: Glyph 12516 (\\N{KATAKANA LETTER YA}) missing from current font.\n",
            "  fig.canvas.print_figure(bytes_io, **kw)\n",
            "/usr/local/lib/python3.10/dist-packages/IPython/core/pylabtools.py:151: UserWarning: Glyph 12490 (\\N{KATAKANA LETTER NA}) missing from current font.\n",
            "  fig.canvas.print_figure(bytes_io, **kw)\n",
            "/usr/local/lib/python3.10/dist-packages/IPython/core/pylabtools.py:151: UserWarning: Glyph 12521 (\\N{KATAKANA LETTER RA}) missing from current font.\n",
            "  fig.canvas.print_figure(bytes_io, **kw)\n",
            "/usr/local/lib/python3.10/dist-packages/IPython/core/pylabtools.py:151: UserWarning: Glyph 12471 (\\N{KATAKANA LETTER SI}) missing from current font.\n",
            "  fig.canvas.print_figure(bytes_io, **kw)\n",
            "/usr/local/lib/python3.10/dist-packages/IPython/core/pylabtools.py:151: UserWarning: Glyph 12488 (\\N{KATAKANA LETTER TO}) missing from current font.\n",
            "  fig.canvas.print_figure(bytes_io, **kw)\n",
            "/usr/local/lib/python3.10/dist-packages/IPython/core/pylabtools.py:151: UserWarning: Glyph 12460 (\\N{KATAKANA LETTER GA}) missing from current font.\n",
            "  fig.canvas.print_figure(bytes_io, **kw)\n",
            "/usr/local/lib/python3.10/dist-packages/IPython/core/pylabtools.py:151: UserWarning: Glyph 12469 (\\N{KATAKANA LETTER SA}) missing from current font.\n",
            "  fig.canvas.print_figure(bytes_io, **kw)\n",
            "/usr/local/lib/python3.10/dist-packages/IPython/core/pylabtools.py:151: UserWarning: Glyph 12527 (\\N{KATAKANA LETTER WA}) missing from current font.\n",
            "  fig.canvas.print_figure(bytes_io, **kw)\n",
            "/usr/local/lib/python3.10/dist-packages/IPython/core/pylabtools.py:151: UserWarning: Glyph 12512 (\\N{KATAKANA LETTER MU}) missing from current font.\n",
            "  fig.canvas.print_figure(bytes_io, **kw)\n",
            "/usr/local/lib/python3.10/dist-packages/IPython/core/pylabtools.py:151: UserWarning: Glyph 12468 (\\N{KATAKANA LETTER GO}) missing from current font.\n",
            "  fig.canvas.print_figure(bytes_io, **kw)\n",
            "/usr/local/lib/python3.10/dist-packages/IPython/core/pylabtools.py:151: UserWarning: Glyph 12475 (\\N{KATAKANA LETTER SE}) missing from current font.\n",
            "  fig.canvas.print_figure(bytes_io, **kw)\n",
            "/usr/local/lib/python3.10/dist-packages/IPython/core/pylabtools.py:151: UserWarning: Glyph 12520 (\\N{KATAKANA LETTER YO}) missing from current font.\n",
            "  fig.canvas.print_figure(bytes_io, **kw)\n",
            "/usr/local/lib/python3.10/dist-packages/IPython/core/pylabtools.py:151: UserWarning: Glyph 12454 (\\N{KATAKANA LETTER U}) missing from current font.\n",
            "  fig.canvas.print_figure(bytes_io, **kw)\n",
            "/usr/local/lib/python3.10/dist-packages/IPython/core/pylabtools.py:151: UserWarning: Glyph 12495 (\\N{KATAKANA LETTER HA}) missing from current font.\n",
            "  fig.canvas.print_figure(bytes_io, **kw)\n",
            "/usr/local/lib/python3.10/dist-packages/IPython/core/pylabtools.py:151: UserWarning: Glyph 12467 (\\N{KATAKANA LETTER KO}) missing from current font.\n",
            "  fig.canvas.print_figure(bytes_io, **kw)\n",
            "/usr/local/lib/python3.10/dist-packages/IPython/core/pylabtools.py:151: UserWarning: Glyph 12462 (\\N{KATAKANA LETTER GI}) missing from current font.\n",
            "  fig.canvas.print_figure(bytes_io, **kw)\n"
          ]
        },
        {
          "output_type": "display_data",
          "data": {
            "text/plain": [
              "<Figure size 640x480 with 1 Axes>"
            ],
            "image/png": "[encoded data removed]"
          },
          "metadata": {}
        }
      ]
    },
    {
      "cell_type": "markdown",
      "source": [
        "##適切な前処理"
      ],
      "metadata": {
        "id": "8te1nYMA5s3d"
      }
    },
    {
      "cell_type": "code",
      "source": [
        "# hillshade_index を ':' で分割して新しいカラムに展開\n",
        "hillshade_df = df['hillshade_index'].str.split(':', expand=True).astype(float)\n",
        "hillshade_df.columns = ['hillshade_0', 'hillshade_1', 'hillshade_2', 'hillshade_3']\n",
        "\n",
        "# 元のカラムを削除し、新しいカラムを追加\n",
        "df = df.drop(columns=['hillshade_index'])\n",
        "df = pd.concat([df, hillshade_df], axis=1)\n",
        "\n",
        "# ダミー変数に変換\n",
        "df = pd.get_dummies(df, columns=['area_type', 'soil_type', 'Target'])\n",
        "\n",
        "# ターゲット変数の列を作成\n",
        "target_cols = [col for col in df.columns if col.startswith('Target')]\n",
        "df['Target'] = df[target_cols].idxmax(axis=1)\n",
        "\n",
        "# 元のターゲット変数のダミー変数を削除\n",
        "df = df.drop(columns=target_cols)\n",
        "\n",
        "# データの確認\n",
        "print(df.head())\n",
        "print(df.info())\n"
      ],
      "metadata": {
        "colab": {
          "base_uri": "https://localhost:8080/"
        },
        "id": "gbiNoLjS5ymL",
        "outputId": "dd6bec67-9fd4-4df8-d4fc-35bbd2b9e194"
      },
      "execution_count": 7,
      "outputs": [
        {
          "output_type": "stream",
          "name": "stdout",
          "text": [
            "    index  elevation  aspect  slope  distance_water  distance_town  \\\n",
            "0  215988     2767.0    66.0   17.0           210.0         1190.0   \n",
            "1  424155     2724.0   160.0   19.0            60.0         1350.0   \n",
            "2  274437     2360.0    65.0    7.0           127.0         1377.0   \n",
            "3   65944     2995.0    45.0    4.0           285.0         5125.0   \n",
            "4   11015     2400.0   106.0   27.0           150.0          342.0   \n",
            "\n",
            "   distance_fire  hillshade_0  hillshade_1  hillshade_2  ...  \\\n",
            "0         2251.0          0.0        234.0        204.0  ...   \n",
            "1         2514.0          0.0        236.0        240.0  ...   \n",
            "2          339.0          0.0        227.0        226.0  ...   \n",
            "3         5706.0          0.0        221.0        231.0  ...   \n",
            "4          811.0          0.0        253.0        196.0  ...   \n",
            "\n",
            "   soil_type_type37  soil_type_type38  soil_type_type39  soil_type_type4  \\\n",
            "0             False             False             False            False   \n",
            "1             False             False             False            False   \n",
            "2             False             False             False            False   \n",
            "3             False             False             False            False   \n",
            "4             False             False             False            False   \n",
            "\n",
            "   soil_type_type5  soil_type_type6  soil_type_type7  soil_type_type8  \\\n",
            "0            False            False            False            False   \n",
            "1            False            False            False            False   \n",
            "2             True            False            False            False   \n",
            "3            False            False            False            False   \n",
            "4            False            False            False            False   \n",
            "\n",
            "   soil_type_type9            Target  \n",
            "0            False  Target_ツイステッドパイン  \n",
            "1            False  Target_ツイステッドパイン  \n",
            "2            False   Target_ポンデローザマツ  \n",
            "3            False  Target_ツイステッドパイン  \n",
            "4            False   Target_ポンデローザマツ  \n",
            "\n",
            "[5 rows x 56 columns]\n",
            "<class 'pandas.core.frame.DataFrame'>\n",
            "Index: 500000 entries, 0 to 499999\n",
            "Data columns (total 56 columns):\n",
            " #   Column            Non-Null Count   Dtype  \n",
            "---  ------            --------------   -----  \n",
            " 0   index             500000 non-null  int64  \n",
            " 1   elevation         500000 non-null  float64\n",
            " 2   aspect            500000 non-null  float64\n",
            " 3   slope             500000 non-null  float64\n",
            " 4   distance_water    500000 non-null  float64\n",
            " 5   distance_town     500000 non-null  float64\n",
            " 6   distance_fire     500000 non-null  float64\n",
            " 7   hillshade_0       500000 non-null  float64\n",
            " 8   hillshade_1       500000 non-null  float64\n",
            " 9   hillshade_2       500000 non-null  float64\n",
            " 10  hillshade_3       500000 non-null  float64\n",
            " 11  area_type_A       500000 non-null  bool   \n",
            " 12  area_type_B       500000 non-null  bool   \n",
            " 13  area_type_C       500000 non-null  bool   \n",
            " 14  area_type_D       500000 non-null  bool   \n",
            " 15  soil_type_type0   500000 non-null  bool   \n",
            " 16  soil_type_type1   500000 non-null  bool   \n",
            " 17  soil_type_type10  500000 non-null  bool   \n",
            " 18  soil_type_type11  500000 non-null  bool   \n",
            " 19  soil_type_type12  500000 non-null  bool   \n",
            " 20  soil_type_type13  500000 non-null  bool   \n",
            " 21  soil_type_type14  500000 non-null  bool   \n",
            " 22  soil_type_type15  500000 non-null  bool   \n",
            " 23  soil_type_type16  500000 non-null  bool   \n",
            " 24  soil_type_type17  500000 non-null  bool   \n",
            " 25  soil_type_type18  500000 non-null  bool   \n",
            " 26  soil_type_type19  500000 non-null  bool   \n",
            " 27  soil_type_type2   500000 non-null  bool   \n",
            " 28  soil_type_type20  500000 non-null  bool   \n",
            " 29  soil_type_type21  500000 non-null  bool   \n",
            " 30  soil_type_type22  500000 non-null  bool   \n",
            " 31  soil_type_type23  500000 non-null  bool   \n",
            " 32  soil_type_type24  500000 non-null  bool   \n",
            " 33  soil_type_type25  500000 non-null  bool   \n",
            " 34  soil_type_type26  500000 non-null  bool   \n",
            " 35  soil_type_type27  500000 non-null  bool   \n",
            " 36  soil_type_type28  500000 non-null  bool   \n",
            " 37  soil_type_type29  500000 non-null  bool   \n",
            " 38  soil_type_type3   500000 non-null  bool   \n",
            " 39  soil_type_type30  500000 non-null  bool   \n",
            " 40  soil_type_type31  500000 non-null  bool   \n",
            " 41  soil_type_type32  500000 non-null  bool   \n",
            " 42  soil_type_type33  500000 non-null  bool   \n",
            " 43  soil_type_type34  500000 non-null  bool   \n",
            " 44  soil_type_type35  500000 non-null  bool   \n",
            " 45  soil_type_type36  500000 non-null  bool   \n",
            " 46  soil_type_type37  500000 non-null  bool   \n",
            " 47  soil_type_type38  500000 non-null  bool   \n",
            " 48  soil_type_type39  500000 non-null  bool   \n",
            " 49  soil_type_type4   500000 non-null  bool   \n",
            " 50  soil_type_type5   500000 non-null  bool   \n",
            " 51  soil_type_type6   500000 non-null  bool   \n",
            " 52  soil_type_type7   500000 non-null  bool   \n",
            " 53  soil_type_type8   500000 non-null  bool   \n",
            " 54  soil_type_type9   500000 non-null  bool   \n",
            " 55  Target            500000 non-null  object \n",
            "dtypes: bool(44), float64(10), int64(1), object(1)\n",
            "memory usage: 70.6+ MB\n",
            "None\n"
          ]
        }
      ]
    },
    {
      "cell_type": "code",
      "source": [
        "# 特徴量とターゲットに分ける\n",
        "X = df.drop('Target', axis=1)\n",
        "y = df['Target']"
      ],
      "metadata": {
        "id": "Fyu1kzPU_eP7"
      },
      "execution_count": 8,
      "outputs": []
    },
    {
      "cell_type": "code",
      "source": [
        "# データのダウンサンプリング（例として10%だけ使用）\n",
        "X, _, y, _ = train_test_split(X, y, test_size=0.9, random_state=42)"
      ],
      "metadata": {
        "id": "u6QgrXPL_h5O"
      },
      "execution_count": 10,
      "outputs": []
    },
    {
      "cell_type": "code",
      "source": [
        "# 訓練データとテストデータに分ける\n",
        "X_train, X_val, y_train, y_val = train_test_split(X, y, test_size=0.2, random_state=42)"
      ],
      "metadata": {
        "id": "r566zCnm_jgH"
      },
      "execution_count": 11,
      "outputs": []
    },
    {
      "cell_type": "code",
      "source": [
        "# 特徴量の標準化\n",
        "scaler = StandardScaler()\n",
        "X_train = scaler.fit_transform(X_train)\n",
        "X_val = scaler.transform(X_val)"
      ],
      "metadata": {
        "id": "JS-QKuN9_pZB"
      },
      "execution_count": 12,
      "outputs": []
    },
    {
      "cell_type": "markdown",
      "source": [
        "## モデルの作成と学習"
      ],
      "metadata": {
        "id": "4uzyiXDt_tvW"
      }
    },
    {
      "cell_type": "code",
      "source": [
        "# モデルの作成\n",
        "model = RandomForestClassifier(n_estimators=100, random_state=42)\n",
        "\n",
        "# モデルの学習\n",
        "model.fit(X_train, y_train)"
      ],
      "metadata": {
        "colab": {
          "base_uri": "https://localhost:8080/",
          "height": 74
        },
        "id": "tLmvWCsz_xgD",
        "outputId": "1f61f7db-1659-401e-86cf-2d9fb26dfcc4"
      },
      "execution_count": 13,
      "outputs": [
        {
          "output_type": "execute_result",
          "data": {
            "text/plain": [
              "RandomForestClassifier(random_state=42)"
            ],
            "text/html": [
              "<style>#sk-container-id-1 {color: black;background-color: white;}#sk-container-id-1 pre{padding: 0;}#sk-container-id-1 div.sk-toggleable {background-color: white;}#sk-container-id-1 label.sk-toggleable__label {cursor: pointer;display: block;width: 100%;margin-bottom: 0;padding: 0.3em;box-sizing: border-box;text-align: center;}#sk-container-id-1 label.sk-toggleable__label-arrow:before {content: \"▸\";float: left;margin-right: 0.25em;color: #696969;}#sk-container-id-1 label.sk-toggleable__label-arrow:hover:before {color: black;}#sk-container-id-1 div.sk-estimator:hover label.sk-toggleable__label-arrow:before {color: black;}#sk-container-id-1 div.sk-toggleable__content {max-height: 0;max-width: 0;overflow: hidden;text-align: left;background-color: #f0f8ff;}#sk-container-id-1 div.sk-toggleable__content pre {margin: 0.2em;color: black;border-radius: 0.25em;background-color: #f0f8ff;}#sk-container-id-1 input.sk-toggleable__control:checked~div.sk-toggleable__content {max-height: 200px;max-width: 100%;overflow: auto;}#sk-container-id-1 input.sk-toggleable__control:checked~label.sk-toggleable__label-arrow:before {content: \"▾\";}#sk-container-id-1 div.sk-estimator input.sk-toggleable__control:checked~label.sk-toggleable__label {background-color: #d4ebff;}#sk-container-id-1 div.sk-label input.sk-toggleable__control:checked~label.sk-toggleable__label {background-color: #d4ebff;}#sk-container-id-1 input.sk-hidden--visually {border: 0;clip: rect(1px 1px 1px 1px);clip: rect(1px, 1px, 1px, 1px);height: 1px;margin: -1px;overflow: hidden;padding: 0;position: absolute;width: 1px;}#sk-container-id-1 div.sk-estimator {font-family: monospace;background-color: #f0f8ff;border: 1px dotted black;border-radius: 0.25em;box-sizing: border-box;margin-bottom: 0.5em;}#sk-container-id-1 div.sk-estimator:hover {background-color: #d4ebff;}#sk-container-id-1 div.sk-parallel-item::after {content: \"\";width: 100%;border-bottom: 1px solid gray;flex-grow: 1;}#sk-container-id-1 div.sk-label:hover label.sk-toggleable__label {background-color: #d4ebff;}#sk-container-id-1 div.sk-serial::before {content: \"\";position: absolute;border-left: 1px solid gray;box-sizing: border-box;top: 0;bottom: 0;left: 50%;z-index: 0;}#sk-container-id-1 div.sk-serial {display: flex;flex-direction: column;align-items: center;background-color: white;padding-right: 0.2em;padding-left: 0.2em;position: relative;}#sk-container-id-1 div.sk-item {position: relative;z-index: 1;}#sk-container-id-1 div.sk-parallel {display: flex;align-items: stretch;justify-content: center;background-color: white;position: relative;}#sk-container-id-1 div.sk-item::before, #sk-container-id-1 div.sk-parallel-item::before {content: \"\";position: absolute;border-left: 1px solid gray;box-sizing: border-box;top: 0;bottom: 0;left: 50%;z-index: -1;}#sk-container-id-1 div.sk-parallel-item {display: flex;flex-direction: column;z-index: 1;position: relative;background-color: white;}#sk-container-id-1 div.sk-parallel-item:first-child::after {align-self: flex-end;width: 50%;}#sk-container-id-1 div.sk-parallel-item:last-child::after {align-self: flex-start;width: 50%;}#sk-container-id-1 div.sk-parallel-item:only-child::after {width: 0;}#sk-container-id-1 div.sk-dashed-wrapped {border: 1px dashed gray;margin: 0 0.4em 0.5em 0.4em;box-sizing: border-box;padding-bottom: 0.4em;background-color: white;}#sk-container-id-1 div.sk-label label {font-family: monospace;font-weight: bold;display: inline-block;line-height: 1.2em;}#sk-container-id-1 div.sk-label-container {text-align: center;}#sk-container-id-1 div.sk-container {/* jupyter's `normalize.less` sets `[hidden] { display: none; }` but bootstrap.min.css set `[hidden] { display: none !important; }` so we also need the `!important` here to be able to override the default hidden behavior on the sphinx rendered scikit-learn.org. See: https://github.com/scikit-learn/scikit-learn/issues/21755 */display: inline-block !important;position: relative;}#sk-container-id-1 div.sk-text-repr-fallback {display: none;}</style><div id=\"sk-container-id-1\" class=\"sk-top-container\"><div class=\"sk-text-repr-fallback\"><pre>RandomForestClassifier(random_state=42)</pre><b>In a Jupyter environment, please rerun this cell to show the HTML representation or trust the notebook. <br />On GitHub, the HTML representation is unable to render, please try loading this page with nbviewer.org.</b></div><div class=\"sk-container\" hidden><div class=\"sk-item\"><div class=\"sk-estimator sk-toggleable\"><input class=\"sk-toggleable__control sk-hidden--visually\" id=\"sk-estimator-id-1\" type=\"checkbox\" checked><label for=\"sk-estimator-id-1\" class=\"sk-toggleable__label sk-toggleable__label-arrow\">RandomForestClassifier</label><div class=\"sk-toggleable__content\"><pre>RandomForestClassifier(random_state=42)</pre></div></div></div></div></div>"
            ]
          },
          "metadata": {},
          "execution_count": 13
        }
      ]
    },
    {
      "cell_type": "markdown",
      "source": [
        "## モデルの評価"
      ],
      "metadata": {
        "id": "6j8OIj_v_3Gh"
      }
    },
    {
      "cell_type": "code",
      "source": [
        "# トレーニングデータの精度\n",
        "train_acc = model.score(X_train, y_train)\n",
        "print(f'Train Accuracy: {train_acc}')\n",
        "\n",
        "# 検証データの精度\n",
        "val_acc = model.score(X_val, y_val)\n",
        "print(f'Validation Accuracy: {val_acc}')\n"
      ],
      "metadata": {
        "colab": {
          "base_uri": "https://localhost:8080/"
        },
        "id": "SyT6e-LP_2Yk",
        "outputId": "413c821f-a3cf-46b9-ca2d-5725ca0170d1"
      },
      "execution_count": 14,
      "outputs": [
        {
          "output_type": "stream",
          "name": "stdout",
          "text": [
            "Train Accuracy: 1.0\n",
            "Validation Accuracy: 0.814\n"
          ]
        }
      ]
    },
    {
      "cell_type": "markdown",
      "source": [
        "## 精度の検証"
      ],
      "metadata": {
        "id": "VqC6OA-M__8O"
      }
    },
    {
      "cell_type": "code",
      "source": [
        "# 予測結果の取得\n",
        "y_pred = model.predict(X_val)\n",
        "\n",
        "# 精度の検証\n",
        "print(classification_report(y_val, y_pred))\n"
      ],
      "metadata": {
        "colab": {
          "base_uri": "https://localhost:8080/"
        },
        "id": "34-XQ53SAEVI",
        "outputId": "99f8d913-e7f0-41d1-c075-2c268deab291"
      },
      "execution_count": 16,
      "outputs": [
        {
          "output_type": "stream",
          "name": "stdout",
          "text": [
            "                  precision    recall  f1-score   support\n",
            "\n",
            "     Target_エゾマツ       0.84      0.77      0.81       364\n",
            "Target_セイヨウハコヤナギ       0.00      0.00      0.00         2\n",
            "Target_ツイステッドパイン       0.82      0.90      0.86       487\n",
            "    Target_トガサワラ       0.67      0.30      0.42        33\n",
            " Target_ポンデローザマツ       0.71      0.88      0.78        66\n",
            "     Target_ムゴマツ       0.81      0.71      0.76        31\n",
            "    Target_ヤマナラシ       1.00      0.24      0.38        17\n",
            "\n",
            "        accuracy                           0.81      1000\n",
            "       macro avg       0.69      0.54      0.57      1000\n",
            "    weighted avg       0.81      0.81      0.81      1000\n",
            "\n"
          ]
        },
        {
          "output_type": "stream",
          "name": "stderr",
          "text": [
            "/usr/local/lib/python3.10/dist-packages/sklearn/metrics/_classification.py:1344: UndefinedMetricWarning: Precision and F-score are ill-defined and being set to 0.0 in labels with no predicted samples. Use `zero_division` parameter to control this behavior.\n",
            "  _warn_prf(average, modifier, msg_start, len(result))\n",
            "/usr/local/lib/python3.10/dist-packages/sklearn/metrics/_classification.py:1344: UndefinedMetricWarning: Precision and F-score are ill-defined and being set to 0.0 in labels with no predicted samples. Use `zero_division` parameter to control this behavior.\n",
            "  _warn_prf(average, modifier, msg_start, len(result))\n",
            "/usr/local/lib/python3.10/dist-packages/sklearn/metrics/_classification.py:1344: UndefinedMetricWarning: Precision and F-score are ill-defined and being set to 0.0 in labels with no predicted samples. Use `zero_division` parameter to control this behavior.\n",
            "  _warn_prf(average, modifier, msg_start, len(result))\n"
          ]
        }
      ]
    },
    {
      "cell_type": "markdown",
      "source": [
        "## sklearn.metrics.classification_report"
      ],
      "metadata": {
        "id": "Ss1nhYZSAPSu"
      }
    },
    {
      "cell_type": "code",
      "source": [
        "# sklearn.metrics.classification_report を使う\n",
        "from sklearn.metrics import classification_report\n",
        "\n",
        "report = classification_report(y_val, y_pred)\n",
        "print(\"Classification Report:\")\n",
        "print(report)"
      ],
      "metadata": {
        "colab": {
          "base_uri": "https://localhost:8080/"
        },
        "id": "PhtvW-TxAOjF",
        "outputId": "057c1904-2d78-4438-dc97-3a83e3b35957"
      },
      "execution_count": 17,
      "outputs": [
        {
          "output_type": "stream",
          "name": "stdout",
          "text": [
            "Classification Report:\n",
            "                  precision    recall  f1-score   support\n",
            "\n",
            "     Target_エゾマツ       0.84      0.77      0.81       364\n",
            "Target_セイヨウハコヤナギ       0.00      0.00      0.00         2\n",
            "Target_ツイステッドパイン       0.82      0.90      0.86       487\n",
            "    Target_トガサワラ       0.67      0.30      0.42        33\n",
            " Target_ポンデローザマツ       0.71      0.88      0.78        66\n",
            "     Target_ムゴマツ       0.81      0.71      0.76        31\n",
            "    Target_ヤマナラシ       1.00      0.24      0.38        17\n",
            "\n",
            "        accuracy                           0.81      1000\n",
            "       macro avg       0.69      0.54      0.57      1000\n",
            "    weighted avg       0.81      0.81      0.81      1000\n",
            "\n"
          ]
        },
        {
          "output_type": "stream",
          "name": "stderr",
          "text": [
            "/usr/local/lib/python3.10/dist-packages/sklearn/metrics/_classification.py:1344: UndefinedMetricWarning: Precision and F-score are ill-defined and being set to 0.0 in labels with no predicted samples. Use `zero_division` parameter to control this behavior.\n",
            "  _warn_prf(average, modifier, msg_start, len(result))\n",
            "/usr/local/lib/python3.10/dist-packages/sklearn/metrics/_classification.py:1344: UndefinedMetricWarning: Precision and F-score are ill-defined and being set to 0.0 in labels with no predicted samples. Use `zero_division` parameter to control this behavior.\n",
            "  _warn_prf(average, modifier, msg_start, len(result))\n",
            "/usr/local/lib/python3.10/dist-packages/sklearn/metrics/_classification.py:1344: UndefinedMetricWarning: Precision and F-score are ill-defined and being set to 0.0 in labels with no predicted samples. Use `zero_division` parameter to control this behavior.\n",
            "  _warn_prf(average, modifier, msg_start, len(result))\n"
          ]
        }
      ]
    }
  ]
}